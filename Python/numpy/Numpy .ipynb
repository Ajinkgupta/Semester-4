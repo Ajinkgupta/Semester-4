{
 "cells": [
  {
   "cell_type": "code",
   "execution_count": null,
   "id": "a00c9d75",
   "metadata": {},
   "outputs": [],
   "source": []
  },
  {
   "cell_type": "markdown",
   "id": "acccf3dc",
   "metadata": {},
   "source": [
    "#### Create a 5X2 integer array from a range between 100 to 200 such that the difference between each element is 10"
   ]
  },
  {
   "cell_type": "code",
   "execution_count": 3,
   "id": "64658af5",
   "metadata": {},
   "outputs": [
    {
     "name": "stdout",
     "output_type": "stream",
     "text": [
      "Creating 5X2 array using numpy.arange\n",
      "[[100 110]\n",
      " [120 130]\n",
      " [140 150]\n",
      " [160 170]\n",
      " [180 190]]\n"
     ]
    }
   ],
   "source": [
    "import numpy\n",
    "\n",
    "print(\"Creating 5X2 array using numpy.arange\")\n",
    "sampleArray = numpy.arange(100, 200, 10)\n",
    "sampleArray = sampleArray.reshape(5,2)\n",
    "print (sampleArray)"
   ]
  },
  {
   "cell_type": "markdown",
   "id": "291a7016",
   "metadata": {},
   "source": [
    "#### Exercise 3: Following is the provided numPy array. Return array of items by taking the third column from all rows"
   ]
  },
  {
   "cell_type": "code",
   "execution_count": 4,
   "id": "9b6607a1",
   "metadata": {},
   "outputs": [
    {
     "name": "stdout",
     "output_type": "stream",
     "text": [
      "Printing Input Array\n",
      "[[11 22 33]\n",
      " [44 55 66]\n",
      " [77 88 99]]\n",
      "\n",
      " Printing array of items in the third column from all rows\n",
      "[33 66 99]\n"
     ]
    }
   ],
   "source": [
    "import numpy\n",
    "\n",
    "sampleArray = numpy.array([[11 ,22, 33], [44, 55, 66], [77, 88, 99]]) \n",
    "\n",
    "print(\"Printing Input Array\")\n",
    "\n",
    "print(sampleArray)\n",
    "\n",
    "print(\"\\n Printing array of items in the third column from all rows\")\n",
    "\n",
    "newArray = sampleArray[...,2]\n",
    "print(newArray)"
   ]
  },
  {
   "cell_type": "markdown",
   "id": "673a246a",
   "metadata": {},
   "source": [
    "#### Exercise 4: Return array of odd rows and even columns from below numpy array"
   ]
  },
  {
   "cell_type": "code",
   "execution_count": 5,
   "id": "8599dafe",
   "metadata": {},
   "outputs": [
    {
     "name": "stdout",
     "output_type": "stream",
     "text": [
      "Printing Input Array\n",
      "[[ 3  6  9 12]\n",
      " [15 18 21 24]\n",
      " [27 30 33 36]\n",
      " [39 42 45 48]\n",
      " [51 54 57 60]]\n",
      "\n",
      " Printing array of odd rows and even columns\n",
      "[[ 6 12]\n",
      " [30 36]\n",
      " [54 60]]\n"
     ]
    }
   ],
   "source": [
    "import numpy\n",
    "\n",
    "sampleArray = numpy.array([[3 ,6, 9, 12], [15 ,18, 21, 24], \n",
    "[27 ,30, 33, 36], [39 ,42, 45, 48], [51 ,54, 57, 60]]) \n",
    "print(\"Printing Input Array\")\n",
    "print(sampleArray)\n",
    "\n",
    "print(\"\\n Printing array of odd rows and even columns\")\n",
    "newArray = sampleArray[::2, 1::2]\n",
    "print(newArray)"
   ]
  },
  {
   "cell_type": "markdown",
   "id": "2a2adee1",
   "metadata": {},
   "source": [
    "#### Exercise 5: Create a result array by adding the following two NumPy arrays. Next, modify the result array by calculating the square of each element"
   ]
  },
  {
   "cell_type": "code",
   "execution_count": 8,
   "id": "56ba7fc1",
   "metadata": {},
   "outputs": [
    {
     "name": "stdout",
     "output_type": "stream",
     "text": [
      "addition of two arrays is \n",
      "\n",
      "[[20 39 33]\n",
      " [25 25 28]]\n",
      "\n",
      "Result array after calculating the square root of all elements\n",
      "\n",
      "[[ 400 1521 1089]\n",
      " [ 625  625  784]]\n"
     ]
    }
   ],
   "source": [
    "import numpy\n",
    "\n",
    "arrayOne = numpy.array([[5, 6, 9], [21 ,18, 27]])\n",
    "arrayTwo = numpy.array([[15 ,33, 24], [4 ,7, 1]])\n",
    "\n",
    "resultArray  = arrayOne + arrayTwo\n",
    "print(\"addition of two arrays is \\n\")\n",
    "print(resultArray)\n",
    "\n",
    "for num in numpy.nditer(resultArray, op_flags = ['readwrite']):\n",
    "   num[...] = num*num\n",
    "print(\"\\nResult array after calculating the square root of all elements\\n\")\n",
    "print(resultArray)"
   ]
  },
  {
   "cell_type": "markdown",
   "id": "509a7475",
   "metadata": {},
   "source": [
    "#### Exercise 7: Sort following NumPy array\n",
    "Case 1: Sort array by the second row\n",
    "\n",
    "Case 2: Sort the array by the second column"
   ]
  },
  {
   "cell_type": "code",
   "execution_count": 17,
   "id": "8b91fa2a",
   "metadata": {},
   "outputs": [
    {
     "name": "stdout",
     "output_type": "stream",
     "text": [
      "\n",
      "Printing Original array\n",
      "\n",
      "[[34 43 73]\n",
      " [82 22 12]\n",
      " [53 94 66]]\n",
      "\n",
      "Sorting Original array by secoond row\n",
      "\n",
      "[[73 43 34]\n",
      " [12 22 82]\n",
      " [66 94 53]]\n",
      "\n",
      "Sorting Original array by secoond column\n",
      "\n",
      "[[82 22 12]\n",
      " [34 43 73]\n",
      " [53 94 66]]\n"
     ]
    }
   ],
   "source": [
    "import numpy\n",
    "\n",
    "print(\"\\nPrinting Original array\\n\")\n",
    "sampleArray = numpy.array([[34,43,73],[82,22,12],[53,94,66]]) \n",
    "print (sampleArray)\n",
    "\n",
    "sortArrayByRow = sampleArray[:,sampleArray[1,:].argsort()]\n",
    "print(\"\\nSorting Original array by secoond row\\n\")\n",
    "print(sortArrayByRow)\n",
    "\n",
    "print(\"\\nSorting Original array by secoond column\\n\")\n",
    "sortArrayByColumn = sampleArray[sampleArray[:,1].argsort()]\n",
    "print(sortArrayByColumn)"
   ]
  },
  {
   "cell_type": "code",
   "execution_count": null,
   "id": "40964d71",
   "metadata": {},
   "outputs": [],
   "source": []
  }
 ],
 "metadata": {
  "kernelspec": {
   "display_name": "Python 3 (ipykernel)",
   "language": "python",
   "name": "python3"
  },
  "language_info": {
   "codemirror_mode": {
    "name": "ipython",
    "version": 3
   },
   "file_extension": ".py",
   "mimetype": "text/x-python",
   "name": "python",
   "nbconvert_exporter": "python",
   "pygments_lexer": "ipython3",
   "version": "3.9.13"
  }
 },
 "nbformat": 4,
 "nbformat_minor": 5
}
